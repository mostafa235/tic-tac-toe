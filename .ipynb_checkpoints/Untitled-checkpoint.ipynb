{
 "cells": [
  {
   "cell_type": "code",
   "execution_count": 1,
   "metadata": {},
   "outputs": [
    {
     "name": "stdout",
     "output_type": "stream",
     "text": [
      "hello with tic-tac-toe\n",
      "if you want human vs human(click 1) and (click 2) \n",
      "1\n",
      "  |  | \n",
      "--+--+--\n",
      "  |  | \n",
      "--+--+--\n",
      "  |  | \n",
      "player x its your turn\n",
      "1\n",
      "x |  | \n",
      "--+--+--\n",
      "  |  | \n",
      "--+--+--\n",
      "  |  | \n",
      "player o its your turn\n",
      "2\n",
      "x |o | \n",
      "--+--+--\n",
      "  |  | \n",
      "--+--+--\n",
      "  |  | \n",
      "player x its your turn\n",
      "3\n",
      "x |o |x\n",
      "--+--+--\n",
      "  |  | \n",
      "--+--+--\n",
      "  |  | \n",
      "player o its your turn\n",
      "4\n",
      "x |o |x\n",
      "--+--+--\n",
      "o |  | \n",
      "--+--+--\n",
      "  |  | \n",
      "player x its your turn\n",
      "5\n",
      "x |o |x\n",
      "--+--+--\n",
      "o |x | \n",
      "--+--+--\n",
      "  |  | \n",
      "player o its your turn\n",
      "6\n",
      "x |o |x\n",
      "--+--+--\n",
      "o |x |o\n",
      "--+--+--\n",
      "  |  | \n",
      "player x its your turn\n",
      "7\n",
      "x |o |x\n",
      "--+--+--\n",
      "o |x |o\n",
      "--+--+--\n",
      "x |  | \n",
      "player x won\n",
      "game over\n",
      "do you want play againno\n"
     ]
    }
   ],
   "source": [
    "import human_vs_human as mode1\n",
    "import human_vs_computer as mode2\n",
    "print(\"hello with tic-tac-toe\")\n",
    "print(\"if you want human vs human(click 1) and (click 2) \")\n",
    "chose_mode=int(input())\n",
    "if chose_mode==1:\n",
    "    mode1.game()\n",
    "else:\n",
    "    mode2.game()"
   ]
  },
  {
   "cell_type": "code",
   "execution_count": null,
   "metadata": {},
   "outputs": [],
   "source": []
  }
 ],
 "metadata": {
  "kernelspec": {
   "display_name": "Python 3",
   "language": "python",
   "name": "python3"
  },
  "language_info": {
   "codemirror_mode": {
    "name": "ipython",
    "version": 3
   },
   "file_extension": ".py",
   "mimetype": "text/x-python",
   "name": "python",
   "nbconvert_exporter": "python",
   "pygments_lexer": "ipython3",
   "version": "3.7.6"
  }
 },
 "nbformat": 4,
 "nbformat_minor": 4
}
